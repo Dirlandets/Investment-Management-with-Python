{
 "cells": [
  {
   "cell_type": "markdown",
   "metadata": {},
   "source": [
    "# Measures of risk and reward\n",
    "### Volatility - is standard deviation and variance"
   ]
  },
  {
   "cell_type": "markdown",
   "metadata": {},
   "source": [
    "we compute the average of the square of the deviations from the mean\n",
    "this measure is called variance and is computed as follows\n",
    "\n",
    "$\\sigma$ - _standard deviation_\n",
    "\n",
    "$R^{̅}$ - _arithmetic mean_ \n",
    "\n",
    "$\\sigma_{R}^{2} = \\frac{1}{N} \\sum \\limits _{i=1} ^{N} (R_{i} - R^{̅})^{2} $\n",
    "\n",
    "The point is, the **variance** of a set of returns is nothing more than the **average of the square** of the **deviations** from its **mean**.\n"
   ]
  },
  {
   "cell_type": "markdown",
   "metadata": {},
   "source": [
    "Typically is instead of using the variance directly, we will take the square root of the variance, because that's small comparable with the returns themselves. \n",
    "\n",
    "$\\sigma_{R} = \\sqrt{\\frac{1}{N} \\sum \\limits _{i=1} ^{N} (R_{i} - R^{̅})^{2}} $\n",
    "\n",
    "or more clear\n",
    "\n",
    "$\\sigma_{R} = \\sqrt{\\frac{(X_{1} - X^{̅})^{2} + ... + (X_{1} - X^{̅})^{2}}{n}}{}$\n",
    "\n",
    "It's nothing more than the square root of the variance, which itself is nothing more than the average of the deviation of the square of the deviation from the mean."
   ]
  },
  {
   "cell_type": "markdown",
   "metadata": {},
   "source": [
    "## Annualizing volatility \n",
    "$\\sigma_{ann} = \\sigma_{p}\\sqrt{P}$\n",
    "\n",
    "There are APPROXIMATELY ***252*** trading days in the year\n",
    "\n",
    "### Example\n",
    "Dayly return series is 0.01%\n",
    "\n",
    "$0.001 * \\sqrt{252} = 1.58\\%$"
   ]
  },
  {
   "cell_type": "markdown",
   "metadata": {},
   "source": [
    "> Since you are multiplying the monthly volatility by the square root of 12, the result will always be greater than the monthly volatility"
   ]
  },
  {
   "cell_type": "markdown",
   "metadata": {},
   "source": [
    "### Example\n",
    "Portfolio annualized Return Volatility \n",
    "\n",
    "    Small Cap 17.2%  36.8%\n",
    "    Large Cap 9.5%   18.7%\n",
    "\n",
    "Volatility of the US small cap over these years, the annualized volatility is 36%. But they also give you a higher return, they give you 17% return. Large cap gave you only a 9.5% return over that same period annualized, but they did so with much lower volatility. So the question we have now is how do we ***compare these two***?\n",
    "\n",
    "And you could do that, that's called a **return on risk ratio**. \n",
    "\n",
    "$RETURN ON RISK RATIO = \\frac{RETURN}{VOLATILITY}$\n",
    "\n",
    "    Small Cap 17.2%/36.8% = 0.47\n",
    "    Large Cap 9.5%/18.7% = 0.50\n",
    "    \n",
    "$$EXCESS\\_RETURN$$\n",
    "$$=$$\n",
    "$$RETURN\\_OVER\\_THE\\_RISK\\_FREE_RATE$$\n",
    "$$=$$\n",
    "$$RETURN\\_MINUS\\_RISK\\_FREE\\_RATE$$"
   ]
  },
  {
   "cell_type": "markdown",
   "metadata": {},
   "source": [
    "We should look at its EXCESS RETURN **OVER THE RISK FREE RATIO**\n",
    "\n",
    "$R_{f}$ - is risk free rate\n",
    "\n",
    "$Sharpe Ratio(P) = \\frac{R_{p} - R_{f}}{\\sigma_{p}}$\n",
    "\n",
    "$R_{f} = 3\\%$ \n",
    "\n",
    "    Small Cap (17.2% - 3%)/36.8% = 0.39\n",
    "    Large Cap (9.5% - 3%)/18.7% = 0.35\n",
    "\n",
    "And basically, what this is telling us here is that once you adjust for the risk free rate, it looks like small caps actually gave you a slightly better risk-adjusted return than large caps. "
   ]
  },
  {
   "cell_type": "code",
   "execution_count": null,
   "metadata": {},
   "outputs": [],
   "source": []
  }
 ],
 "metadata": {
  "kernelspec": {
   "display_name": "Python 3.8.2 32-bit ('venv': venv)",
   "language": "python",
   "name": "python38232bitvenvvenv80604f813ef747f1942214c378dad1e5"
  },
  "language_info": {
   "codemirror_mode": {
    "name": "ipython",
    "version": 3
   },
   "file_extension": ".py",
   "mimetype": "text/x-python",
   "name": "python",
   "nbconvert_exporter": "python",
   "pygments_lexer": "ipython3",
   "version": "3.8.2"
  }
 },
 "nbformat": 4,
 "nbformat_minor": 4
}
