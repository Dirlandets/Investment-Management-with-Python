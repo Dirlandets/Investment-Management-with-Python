{
 "cells": [
  {
   "cell_type": "markdown",
   "metadata": {},
   "source": [
    "# Fundamental of returns\n",
    "\n",
    "The return on the asset is nothing more than the difference in the prices"
   ]
  },
  {
   "cell_type": "markdown",
   "metadata": {},
   "source": [
    "### Price return\n",
    "$R_{(t,t+1)} = \\frac{P_{t+1} - P_{t}}{P_{t}}$\n",
    "\n",
    "or alternativly\n",
    "\n",
    "$R_{(t,t+1)} = \\frac{P_{t+1}}{P_{t}} - 1$"
   ]
  },
  {
   "cell_type": "markdown",
   "metadata": {},
   "source": [
    "### Example\n",
    "You bue stock at 10 USD and sell it at 12 USD\n",
    "\n",
    "$\\frac{12 - 10}{10} = \\frac{2}{10} = 0.2 = 20\\%$"
   ]
  },
  {
   "cell_type": "code",
   "execution_count": 1,
   "metadata": {},
   "outputs": [
    {
     "name": "stdout",
     "output_type": "stream",
     "text": [
      "Return is equal to: 0.2\n"
     ]
    }
   ],
   "source": [
    "bue_val = 10\n",
    "sell_val = 12\n",
    "ret = (sell_val - bue_val) / bue_val\n",
    "print(\"Return is equal to:\", ret)"
   ]
  },
  {
   "cell_type": "markdown",
   "metadata": {},
   "source": [
    "### With dividents (Total return)\n",
    "That return is what people call a total return. You should always remember to add the dividends back.\n",
    "\n",
    "$R_{(t,t+1)} = \\frac{P_{t+1} + D_{t,t+1}}{P_{t}} - 1 = \\frac{P_{t+1} + D_{t,t+1} - P_{t}}{P_{t}}$"
   ]
  },
  {
   "cell_type": "markdown",
   "metadata": {},
   "source": [
    "> The difference between the total return and the price return is the contribution of dividends. Most stock market index portfolios will contain stocks that generate dividends from time to time. Therefore, total returns over a period will almost always exceed the price returns.\n",
    "\n",
    "> If the stock portfolio has zero dividends then the portfolio’s total return and the price return will be the same. Although this is rare, it is possible that none of the stocks generated any dividends over the month and therefore the statement is not always true."
   ]
  },
  {
   "cell_type": "markdown",
   "metadata": {},
   "source": [
    "## Multi period returns\n",
    "\n",
    "If you have two time periods, so let's say T0 to T1 and T1 to T2.\n",
    "You have a return for each time period, the question is, what is the return over the combined time period?"
   ]
  },
  {
   "cell_type": "markdown",
   "metadata": {},
   "source": [
    "The compounded return over two periods is (1+R1) times (1+R2)- 1\n",
    "\n",
    "$R_{(t,t+2)} = (1 + R_{t,t+1})*(1 + R_{t+1,t+2}) - 1$"
   ]
  },
  {
   "cell_type": "markdown",
   "metadata": {},
   "source": [
    "### Example\n",
    "You bue a stock that returns 10% on the first day than returns -3% on the second day.\n",
    "\n",
    "So in mind: +10% = 1.1 and -3% is 0.97\n",
    "\n",
    "$(1 + 0.10)*(1 - 0.03) - 1 = 0.067 = 6.7\\%$"
   ]
  },
  {
   "cell_type": "markdown",
   "metadata": {},
   "source": [
    "You buy a stock at the closing price on Monday. On Tuesday, the stock closes at 10% above Monday's closing price. On Wednesday, it falls and closes at 10% below Tuesday’s closing price and you sell it at that closing price. DId you have a negative, positive or zero return?\n",
    "\n",
    "$(1 + 0.10) * (1 - 0.10) - 1 = -0,01 = -1\\%$"
   ]
  },
  {
   "cell_type": "code",
   "execution_count": 2,
   "metadata": {},
   "outputs": [
    {
     "name": "stdout",
     "output_type": "stream",
     "text": [
      "-1.0 %\n"
     ]
    }
   ],
   "source": [
    "stock_returns = [0.10, -0.10]\n",
    "\n",
    "ret = 1\n",
    " \n",
    "while stock_returns:\n",
    "    ret *= 1 + stock_returns.pop(0)\n",
    "\n",
    "print(round(ret - 1, 4) * 100,\"%\")"
   ]
  },
  {
   "cell_type": "markdown",
   "metadata": {},
   "source": [
    "## Annualizing returns\n",
    "The last thing we want to talk about is, how do you compare returns across different periods of time? How do you compare monthly return with, say, quarterly return or a daily return? And the answer is a process called **annualization**, and we are going to use annualized returns for almost everything we do when we start reporting numbers"
   ]
  },
  {
   "cell_type": "markdown",
   "metadata": {},
   "source": [
    "### Example\n",
    "The return over the month is 1%, what is the annualized return?\n",
    "\n",
    "Maybe?\n",
    "\n",
    "$1\\% * 12 = 12\\%$\n",
    "\n",
    "Rigt asver is:\n",
    "\n",
    "$((1 + 0.01)(1 + 0.01)(1 + 0.01)(1 + 0.01)...(12 times) -1)$\n",
    "\n",
    "Which is equal to:\n",
    "\n",
    "$((1 + 0.01)^{12} -1) = 0,1268 = 12,68\\%$"
   ]
  },
  {
   "cell_type": "code",
   "execution_count": 3,
   "metadata": {},
   "outputs": [
    {
     "name": "stdout",
     "output_type": "stream",
     "text": [
      "12.68 %\n"
     ]
    }
   ],
   "source": [
    "monthly_returns = [0.01 for _ in range(12)]\n",
    "\n",
    "ret = 1\n",
    "\n",
    "while monthly_returns:\n",
    "    ret *= 1 + monthly_returns.pop(0)\n",
    "print(round(ret - 1, 4) * 100,\"%\")"
   ]
  },
  {
   "cell_type": "markdown",
   "metadata": {},
   "source": [
    "## Lab Session-Basics of returns\n",
    " "
   ]
  },
  {
   "cell_type": "code",
   "execution_count": 13,
   "metadata": {},
   "outputs": [
    {
     "name": "stdout",
     "output_type": "stream",
     "text": [
      "[0.024137931034482918, -0.022446689113355678]\n"
     ]
    }
   ],
   "source": [
    "prices = [8.7, 8.91, 8.71]\n",
    "returns = []\n",
    "\n",
    "def count_ret(prev: float, actual: float):\n",
    "    return actual / prev - 1\n",
    "\n",
    "for i, price in enumerate(prices):\n",
    "    if i:\n",
    "        prev = prices[i - 1]\n",
    "        actual = prices[i]\n",
    "        returns.append(count_ret(prev, actual))\n",
    "    else:\n",
    "        returns.append(0)\n",
    "        continue\n",
    "\n",
    "print(returns)"
   ]
  },
  {
   "cell_type": "code",
   "execution_count": null,
   "metadata": {},
   "outputs": [],
   "source": []
  },
  {
   "cell_type": "code",
   "execution_count": null,
   "metadata": {},
   "outputs": [],
   "source": []
  },
  {
   "cell_type": "code",
   "execution_count": null,
   "metadata": {},
   "outputs": [],
   "source": []
  }
 ],
 "metadata": {
  "kernelspec": {
   "display_name": "Python 3",
   "language": "python",
   "name": "python3"
  },
  "language_info": {
   "codemirror_mode": {
    "name": "ipython",
    "version": 3
   },
   "file_extension": ".py",
   "mimetype": "text/x-python",
   "name": "python",
   "nbconvert_exporter": "python",
   "pygments_lexer": "ipython3",
   "version": "3.8.2"
  }
 },
 "nbformat": 4,
 "nbformat_minor": 4
}
